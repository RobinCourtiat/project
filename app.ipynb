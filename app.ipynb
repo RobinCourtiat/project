{
 "cells": [
  {
   "cell_type": "code",
   "execution_count": 1,
   "id": "391187a5",
   "metadata": {},
   "outputs": [
    {
     "name": "stderr",
     "output_type": "stream",
     "text": [
      "C:\\Users\\robin\\.venvs\\artefact\\lib\\site-packages\\xgboost\\compat.py:36: FutureWarning: pandas.Int64Index is deprecated and will be removed from pandas in a future version. Use pandas.Index with the appropriate dtype instead.\n",
      "  from pandas import MultiIndex, Int64Index\n",
      "C:\\Users\\robin\\.venvs\\artefact\\lib\\site-packages\\sklearn\\base.py:443: UserWarning: X has feature names, but StandardScaler was fitted without feature names\n",
      "  warnings.warn(\n"
     ]
    },
    {
     "data": {
      "application/vnd.jupyter.widget-view+json": {
       "model_id": "01f52b488a50417298988b8c40d0c6fa",
       "version_major": 2,
       "version_minor": 0
      },
      "text/plain": [
       "interactive(children=(IntSlider(value=15, description='réseau', max=20, min=10), IntSlider(value=500, descript…"
      ]
     },
     "metadata": {},
     "output_type": "display_data"
    }
   ],
   "source": [
    "# imports\n",
    "import numpy as np\n",
    "import pandas as pd\n",
    "\n",
    "from sklearn.preprocessing import StandardScaler\n",
    "from sklearn.model_selection import train_test_split\n",
    "from catboost import CatBoostRegressor\n",
    "\n",
    "from ipywidgets import interact\n",
    "import ipywidgets as widgets\n",
    "\n",
    "# load data\n",
    "X = pd.read_csv('X.csv', encoding='utf-8', index_col='id')\n",
    "y = pd.read_csv('y.csv', encoding='utf-8', index_col='id')\n",
    "\n",
    "# scale\n",
    "std_scaler = StandardScaler()\n",
    "std_scaler.fit(X.values)\n",
    "X_scaled = std_scaler.transform(X)\n",
    "\n",
    "# split\n",
    "X_train, X_test, y_train, y_test = train_test_split(X_scaled, y, test_size=0.2, random_state=0)\n",
    "\n",
    "cbr = CatBoostRegressor(iterations=150, learning_rate=0.1, depth=14, silent=True)\n",
    "cbr.fit(X_train, y_train)\n",
    "\n",
    "def func1(réseau, aire, longitude, latitude, hauteur, étages, altitude, ensoleillement, année, murs, toit):\n",
    "    list_imm = [réseau, aire, longitude, latitude, hauteur, étages, altitude, ensoleillement, année]\n",
    "    if murs == 'pierre':\n",
    "        list_imm += [0,0,0,0,0,1]\n",
    "    elif murs == 'meulière':\n",
    "        list_imm += [0,0,0,0,1,0]\n",
    "    elif murs == 'béton':\n",
    "        list_imm += [0,0,0,1,0,0]\n",
    "    elif murs == 'briques':\n",
    "        list_imm += [0,0,1,0,0,0]  \n",
    "    elif murs == 'aggloméré':\n",
    "        list_imm += [0,0,0,0,0,0] \n",
    "    elif murs == 'bois':\n",
    "        list_imm += [0,1,0,0,0,0]\n",
    "    elif murs == 'autres':\n",
    "        list_imm += [1,0,0,0,0,0]\n",
    "    if toit == 'tuiles':\n",
    "        list_imm += [0,0,1,0]\n",
    "    elif toit == 'ardoises':\n",
    "        list_imm += [0,0,0,0]\n",
    "    elif toit == 'zinc aluminium':\n",
    "        list_imm += [0,0,0,1]\n",
    "    elif toit == 'béton':\n",
    "        list_imm += [0,1,0,0]\n",
    "    elif toit == 'autres':\n",
    "        list_imm += [1,0,0,0]\n",
    "    array_imm = np.array(list_imm).reshape(1, -1)\n",
    "    array_imm_scaled = std_scaler.transform(array_imm)\n",
    "    prediction = cbr.predict(array_imm_scaled)\n",
    "    print(f'La consommation de gaz de cet immeuble est de {round(prediction[0], 2)} MWh.')\n",
    "\n",
    "interact(func1,\n",
    "    réseau=(10, 20, 1),\n",
    "    aire=(200, 800, 10),\n",
    "    longitude=(42.5, 49, 0.1),\n",
    "    latitude=(2.1, 4.9, 0.1),\n",
    "    hauteur=(10, 25, 0.5),\n",
    "    étages=(4, 7, 1),\n",
    "    altitude=(1, 2.5, 0.5),\n",
    "    ensoleillement=(20000, 60000, 1000),\n",
    "    année=(1930, 2017, 1),\n",
    "    murs=['pierre', 'meulière', 'béton', 'briques', 'aggloméré', 'bois', 'autres'],\n",
    "    toit=['tuiles', 'ardoises', 'zinc aluminium', 'béton', 'autres']);"
   ]
  }
 ],
 "metadata": {
  "kernelspec": {
   "display_name": "Python 3 (ipykernel)",
   "language": "python",
   "name": "python3"
  },
  "language_info": {
   "codemirror_mode": {
    "name": "ipython",
    "version": 3
   },
   "file_extension": ".py",
   "mimetype": "text/x-python",
   "name": "python",
   "nbconvert_exporter": "python",
   "pygments_lexer": "ipython3",
   "version": "3.9.7"
  }
 },
 "nbformat": 4,
 "nbformat_minor": 5
}
